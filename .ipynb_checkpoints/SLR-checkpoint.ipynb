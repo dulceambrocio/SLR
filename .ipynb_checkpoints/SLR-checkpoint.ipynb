{
 "cells": [
  {
   "cell_type": "code",
   "execution_count": 1,
   "metadata": {},
   "outputs": [
    {
     "name": "stdout",
     "output_type": "stream",
     "text": [
      "95% Confidence interval on slope: [ 2.7100061   3.30510339]\n",
      "95% Confidence interval on intercept: [-0.15585331  0.22667859]\n"
     ]
    },
    {
     "data": {
      "image/png": "[encoded data removed]",
      "text/plain": [
       "<matplotlib.figure.Figure at 0x104976dd8>"
      ]
     },
     "metadata": {},
     "output_type": "display_data"
    }
   ],
   "source": [
    "import numpy as np\n",
    "import scipy.stats as stats\n",
    "class SLR():\n",
    "    def __init__(self):\n",
    "        self.coef=None\n",
    "        self.intercept=None\n",
    "        self.n=None\n",
    "    #Fit simple linear regresion model\n",
    "    def fit(self,x,y):\n",
    "        self.coef,self.intercept=np.polyfit(x,y,1)\n",
    "        self.n=len(x)\n",
    "        self.x=np.copy(x)\n",
    "        self.y=np.copy(y)\n",
    "\n",
    "    #Get confidence interval on parameters\n",
    "    def get_ci(self,confidence=0.95):\n",
    "        if self.n==None:\n",
    "            print(\"ERROR, MODEL NOT FITTED\")\n",
    "            return -1\n",
    "\n",
    "        if self.coef is not None and self.n>2:\n",
    "            ci=[]\n",
    "            t=stats.t.ppf(1.0-(1.0-confidence)/2,self.n-2)\n",
    "            self.sc=np.sqrt(np.sum((self.coef*self.x+self.intercept-self.y)**2)/(self.n-2))\n",
    "            self.sc/=np.sqrt(np.sum((self.x-np.mean(self.x))**2))\n",
    "            self.si=self.sc*np.sqrt(np.mean(self.x**2))\n",
    "\n",
    "            ci=np.zeros((2,2))\n",
    "            ci[0,0]=self.coef-self.sc*t\n",
    "            ci[0,1]=self.coef+self.sc*t\n",
    "            ci[1,0]=self.intercept-self.si*t\n",
    "            ci[1,1]=self.intercept+self.si*t\n",
    "\n",
    "        else:\n",
    "            ci=[]\n",
    "        return ci\n",
    "\n",
    "    #Prediction function. Pass confidence level as ci to get confidence interval\n",
    "    def predict(self,x,ci=None):\n",
    "        if self.n==None:\n",
    "            print(\"ERROR, MODEL NOT FITTED\")\n",
    "            return -1\n",
    "\n",
    "        pred=self.coef*x+self.intercept\n",
    "        if ci is not None:\n",
    "            t=stats.t.ppf(1.0-(1.0-ci)/2,self.n-2)\n",
    "            s=np.sum((self.coef*self.x+self.intercept-self.y)**2)/(self.n-2)\n",
    "            s=np.sqrt(s*(1.0/self.n+(x-np.mean(self.x))**2/np.sum((self.x-np.mean(self.x))**2)))\n",
    "\n",
    "            return pred, [pred-t*s,pred+t*s]\n",
    "        else:\n",
    "            return pred\n",
    "\n",
    "\n",
    "import matplotlib.pyplot as plt\n",
    "np.random.seed(0)\n",
    "x=np.random.random(size=(10,))\n",
    "y=3.0*x+np.random.normal(0.0,0.1,size=(10,))\n",
    "\n",
    "xp=np.linspace(-0.5,1.5,201)\n",
    "\n",
    "#Create regressor object\n",
    "slr=SLR()\n",
    "\n",
    "#Fit model\n",
    "slr.fit(x,y)\n",
    "\n",
    "#Get 95% confidence interval\n",
    "ci=slr.get_ci(0.95)\n",
    "print(\"95% Confidence interval on slope: \" + str(ci[0,:]))\n",
    "print(\"95% Confidence interval on intercept: \" + str(ci[1,:]))\n",
    "\n",
    "#Plot prediction. 95% confidence interval\n",
    "yp,[yp_low,yp_high] = slr.predict(xp, ci=0.95)\n",
    "\n",
    "plt.plot(xp,yp)\n",
    "plt.plot(x,y,'.')\n",
    "plt.fill_between(xp,yp_low,yp_high,alpha=0.5)\n",
    "plt.show()\n"
   ]
  },
  {
   "cell_type": "code",
   "execution_count": 3,
   "metadata": {},
   "outputs": [
    {
     "name": "stdout",
     "output_type": "stream",
     "text": [
      "95% Confidence interval on slope: [ 2.92442501  3.06296199]\n",
      "95% Confidence interval on intercept: [-0.01614312  0.06057333]\n"
     ]
    },
    {
     "data": {
      "image/png": "[encoded data removed]",
      "text/plain": [
       "<matplotlib.figure.Figure at 0x1135c49b0>"
      ]
     },
     "metadata": {},
     "output_type": "display_data"
    }
   ],
   "source": [
    "np.random.seed(0)\n",
    "x=np.random.random(size=(100,))\n",
    "y=3.0*x+np.random.normal(0.0,0.1,size=(100,))\n",
    "\n",
    "xp=np.linspace(-0.5,1.5,201)\n",
    "\n",
    "#Create regressor object\n",
    "slr=SLR()\n",
    "\n",
    "#Fit model\n",
    "slr.fit(x,y)\n",
    "\n",
    "#Get 95% confidence interval\n",
    "ci=slr.get_ci(0.95)\n",
    "print(\"95% Confidence interval on slope: \" + str(ci[0,:]))\n",
    "print(\"95% Confidence interval on intercept: \" + str(ci[1,:]))\n",
    "\n",
    "#Plot prediction. 95% confidence interval\n",
    "yp,[yp_low,yp_high] = slr.predict(xp, ci=0.95)\n",
    "\n",
    "plt.plot(xp,yp)\n",
    "plt.plot(x,y,'.')\n",
    "plt.fill_between(xp,yp_low,yp_high,alpha=0.5)\n",
    "plt.show()"
   ]
  },
  {
   "cell_type": "markdown",
   "metadata": {
    "collapsed": true
   },
   "source": [
    "Importamos las dependencias"
   ]
  },
  {
   "cell_type": "code",
   "execution_count": 4,
   "metadata": {
    "collapsed": true
   },
   "outputs": [],
   "source": [
    "import numpy as np\n",
    "import scipy.stats as stats"
   ]
  },
  {
   "cell_type": "code",
   "execution_count": null,
   "metadata": {
    "collapsed": true
   },
   "outputs": [],
   "source": [
    "Creamos la clase SLR con tres métodos:\n",
    "    - fit\n",
    "    - get_ci"
   ]
  }
 ],
 "metadata": {
  "kernelspec": {
   "display_name": "Python 3",
   "language": "python",
   "name": "python3"
  },
  "language_info": {
   "codemirror_mode": {
    "name": "ipython",
    "version": 3
   },
   "file_extension": ".py",
   "mimetype": "text/x-python",
   "name": "python",
   "nbconvert_exporter": "python",
   "pygments_lexer": "ipython3",
   "version": "3.6.1"
  }
 },
 "nbformat": 4,
 "nbformat_minor": 2
}
